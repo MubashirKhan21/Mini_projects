{
 "cells": [
  {
   "cell_type": "code",
   "execution_count": 1,
   "id": "3e79d981-47b7-4017-9d96-03dc797c8c7e",
   "metadata": {},
   "outputs": [
    {
     "name": "stdout",
     "output_type": "stream",
     "text": [
      "Encrypted: 10111011000001010100010011111010\n"
     ]
    }
   ],
   "source": [
    "# S-Box\n",
    "S_BOX = [\n",
    "    ['01', '00', '11', '10'],\n",
    "    ['11', '10', '01', '00'],\n",
    "    ['00', '10', '01', '11'],\n",
    "    ['11', '01', '11', '10']\n",
    "]\n",
    "\n",
    "# Key for AddRoundKey step\n",
    "ROUND_KEY = ['0101', '0011', '1010', '1100']\n",
    "\n",
    "def substitute_bytes(state):\n",
    "    for i in range(4):\n",
    "        for j in range(4):\n",
    "            row = int(state[i][j][0], 2)\n",
    "            col = int(state[i][j][1], 2)\n",
    "            state[i][j] = S_BOX[row][col]\n",
    "    return state\n",
    "\n",
    "def add_round_key(state, round_key):\n",
    "    for i in range(4):\n",
    "        for j in range(4):\n",
    "            state[i][j] = '{:02x}'.format(int(state[i][j], 16) ^ int(round_key[i][j], 16))\n",
    "    return state\n",
    "\n",
    "def encrypt(plaintext, round_key):\n",
    "    state = [[plaintext[i:i+2] for i in range(j, len(plaintext), 8)] for j in range(0, 8, 2)]\n",
    "    \n",
    "    state = add_round_key(state, round_key)\n",
    "    state = substitute_bytes(state)\n",
    "    \n",
    "    return ''.join([''.join(row) for row in state])\n",
    "\n",
    "# Example usage\n",
    "plaintext = '11010111' * 4  # 32-bit plaintext\n",
    "\n",
    "ciphertext = encrypt(plaintext, ROUND_KEY)\n",
    "print(\"Encrypted:\", ciphertext)"
   ]
  },
  {
   "cell_type": "code",
   "execution_count": null,
   "id": "8e9b63c2-7e28-417a-9912-ffc3ef60bf3a",
   "metadata": {},
   "outputs": [],
   "source": []
  }
 ],
 "metadata": {
  "kernelspec": {
   "display_name": "Python 3 (ipykernel)",
   "language": "python",
   "name": "python3"
  },
  "language_info": {
   "codemirror_mode": {
    "name": "ipython",
    "version": 3
   },
   "file_extension": ".py",
   "mimetype": "text/x-python",
   "name": "python",
   "nbconvert_exporter": "python",
   "pygments_lexer": "ipython3",
   "version": "3.12.1"
  }
 },
 "nbformat": 4,
 "nbformat_minor": 5
}
