{
 "cells": [
  {
   "cell_type": "code",
   "execution_count": 1,
   "id": "d1e95230-cd5f-4242-a396-929fcd8a47b1",
   "metadata": {},
   "outputs": [
    {
     "name": "stdout",
     "output_type": "stream",
     "text": [
      "Public key: (0, 6)\n"
     ]
    }
   ],
   "source": [
    "# Elliptic Curve Parameters\n",
    "a = 2\n",
    "b = 2\n",
    "p = 17  # Prime modulus\n",
    "G = (5, 1)  # Generator point\n",
    "n = 19  # Order of the generator point\n",
    "\n",
    "# Check if a point belongs to the curve\n",
    "def is_on_curve(point):\n",
    "    x, y = point\n",
    "    return (y**2) % p == (x**3 + a*x + b) % p\n",
    "\n",
    "# Point addition\n",
    "def point_addition(point1, point2):\n",
    "    if point1 is None:\n",
    "        return point2\n",
    "    if point2 is None:\n",
    "        return point1\n",
    "\n",
    "    x1, y1 = point1\n",
    "    x2, y2 = point2\n",
    "\n",
    "    if x1 == x2 and y1 != y2:\n",
    "        return None\n",
    "\n",
    "    if point1 == point2:\n",
    "        slope = (3 * x1**2 + a) * pow(2 * y1, -1, p)\n",
    "    else:\n",
    "        slope = (y2 - y1) * pow(x2 - x1, -1, p)\n",
    "\n",
    "    x3 = (slope**2 - x1 - x2) % p\n",
    "    y3 = (slope * (x1 - x3) - y1) % p\n",
    "\n",
    "    return (x3, y3)\n",
    "\n",
    "# Scalar multiplication\n",
    "def scalar_multiplication(k, point):\n",
    "    result = None\n",
    "    for _ in range(k):\n",
    "        result = point_addition(result, point)\n",
    "    return result\n",
    "\n",
    "# Example usage\n",
    "private_key = 7\n",
    "public_key = scalar_multiplication(private_key, G)\n",
    "\n",
    "print(\"Public key:\", public_key)"
   ]
  },
  {
   "cell_type": "code",
   "execution_count": null,
   "id": "518f2799-d600-414a-abac-4ce69642c1c6",
   "metadata": {},
   "outputs": [],
   "source": []
  }
 ],
 "metadata": {
  "kernelspec": {
   "display_name": "Python 3 (ipykernel)",
   "language": "python",
   "name": "python3"
  },
  "language_info": {
   "codemirror_mode": {
    "name": "ipython",
    "version": 3
   },
   "file_extension": ".py",
   "mimetype": "text/x-python",
   "name": "python",
   "nbconvert_exporter": "python",
   "pygments_lexer": "ipython3",
   "version": "3.12.1"
  }
 },
 "nbformat": 4,
 "nbformat_minor": 5
}
