{
 "cells": [
  {
   "cell_type": "code",
   "execution_count": 1,
   "id": "53890fbc-8841-4f3e-9736-8fa17434bbd8",
   "metadata": {},
   "outputs": [
    {
     "name": "stdout",
     "output_type": "stream",
     "text": [
      "Encrypted message: [2146, 162, 3158, 3158, 50, 2348, 459, 1935, 50, 1436, 3158, 2872, 816]\n",
      "Decrypted message: Hello, World!\n"
     ]
    }
   ],
   "source": [
    "import random\n",
    "\n",
    "def gcd(a, b):\n",
    "    while b != 0:\n",
    "        a, b = b, a % b\n",
    "    return a\n",
    "\n",
    "def mod_inverse(a, m):\n",
    "    m0, x0, x1 = m, 0, 1\n",
    "    while a > 1:\n",
    "        q = a // m\n",
    "        m, a = a % m, m\n",
    "        x0, x1 = x1 - q * x0, x0\n",
    "    return x1 + m0 if x1 < 0 else x1\n",
    "\n",
    "def is_prime(n, k=5):\n",
    "    if n <= 1:\n",
    "        return False\n",
    "    if n <= 3:\n",
    "        return True\n",
    "    for _ in range(k):\n",
    "        a = random.randint(2, n - 1)\n",
    "        if gcd(n, a) != 1:\n",
    "            return False\n",
    "        if pow(a, n - 1, n) != 1:\n",
    "            return False\n",
    "    return True\n",
    "\n",
    "def generate_keypair(p, q):\n",
    "    if not (is_prime(p) and is_prime(q)):\n",
    "        raise ValueError(\"Both numbers must be prime.\")\n",
    "    elif p == q:\n",
    "        raise ValueError(\"p and q cannot be equal.\")\n",
    "    n = p * q\n",
    "    phi = (p - 1) * (q - 1)\n",
    "    e = random.randrange(1, phi)\n",
    "    g = gcd(e, phi)\n",
    "    while g != 1:\n",
    "        e = random.randrange(1, phi)\n",
    "        g = gcd(e, phi)\n",
    "    d = mod_inverse(e, phi)\n",
    "    return ((e, n), (d, n))\n",
    "\n",
    "def encrypt(public_key, plaintext):\n",
    "    key, n = public_key\n",
    "    cipher = [pow(ord(char), key, n) for char in plaintext]\n",
    "    return cipher\n",
    "\n",
    "def decrypt(private_key, ciphertext):\n",
    "    key, n = private_key\n",
    "    plain = [chr(pow(char, key, n)) for char in ciphertext]\n",
    "    return ''.join(plain)\n",
    "\n",
    "# Example usage\n",
    "p = 61\n",
    "q = 53\n",
    "public_key, private_key = generate_keypair(p, q)\n",
    "\n",
    "message = \"Hello, World!\"\n",
    "encrypted_msg = encrypt(public_key, message)\n",
    "print(\"Encrypted message:\", encrypted_msg)\n",
    "\n",
    "decrypted_msg = decrypt(private_key, encrypted_msg)\n",
    "print(\"Decrypted message:\", decrypted_msg)"
   ]
  },
  {
   "cell_type": "code",
   "execution_count": null,
   "id": "b097cad8-9d58-4218-bc65-9cab3b1c03ec",
   "metadata": {},
   "outputs": [],
   "source": []
  }
 ],
 "metadata": {
  "kernelspec": {
   "display_name": "Python 3 (ipykernel)",
   "language": "python",
   "name": "python3"
  },
  "language_info": {
   "codemirror_mode": {
    "name": "ipython",
    "version": 3
   },
   "file_extension": ".py",
   "mimetype": "text/x-python",
   "name": "python",
   "nbconvert_exporter": "python",
   "pygments_lexer": "ipython3",
   "version": "3.12.1"
  }
 },
 "nbformat": 4,
 "nbformat_minor": 5
}
