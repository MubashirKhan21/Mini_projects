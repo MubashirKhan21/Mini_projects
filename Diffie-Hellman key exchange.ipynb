{
 "cells": [
  {
   "cell_type": "code",
   "execution_count": 1,
   "id": "98519bf6-f34b-48b4-bda8-a36db030978b",
   "metadata": {},
   "outputs": [
    {
     "name": "stdout",
     "output_type": "stream",
     "text": [
      "Shared secret: 2\n"
     ]
    }
   ],
   "source": [
    "# Diffie-Hellman Key Exchange Implementation\n",
    "\n",
    "# Prime number\n",
    "p = 23\n",
    "# Primitive root of p\n",
    "g = 5\n",
    "\n",
    "# Alice's private key\n",
    "a_private = 6\n",
    "# Bob's private key\n",
    "b_private = 15\n",
    "\n",
    "# Compute public keys\n",
    "a_public = (g ** a_private) % p\n",
    "b_public = (g ** b_private) % p\n",
    "\n",
    "# Exchange public keys\n",
    "# Alice receives b_public\n",
    "# Bob receives a_public\n",
    "\n",
    "# Compute shared secret\n",
    "shared_secret_a = (b_public ** a_private) % p\n",
    "shared_secret_b = (a_public ** b_private) % p\n",
    "\n",
    "# Check if both shared secrets match\n",
    "if shared_secret_a == shared_secret_b:\n",
    "    print(\"Shared secret:\", shared_secret_a)\n",
    "else:\n",
    "    print(\"Key exchange failed.\")"
   ]
  },
  {
   "cell_type": "code",
   "execution_count": null,
   "id": "0027674f-a083-443a-873f-90e5bda5981a",
   "metadata": {},
   "outputs": [],
   "source": []
  }
 ],
 "metadata": {
  "kernelspec": {
   "display_name": "Python 3 (ipykernel)",
   "language": "python",
   "name": "python3"
  },
  "language_info": {
   "codemirror_mode": {
    "name": "ipython",
    "version": 3
   },
   "file_extension": ".py",
   "mimetype": "text/x-python",
   "name": "python",
   "nbconvert_exporter": "python",
   "pygments_lexer": "ipython3",
   "version": "3.12.1"
  }
 },
 "nbformat": 4,
 "nbformat_minor": 5
}
